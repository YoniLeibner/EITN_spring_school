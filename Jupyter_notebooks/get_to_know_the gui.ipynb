{
 "cells": [
  {
   "cell_type": "code",
   "execution_count": 1,
   "metadata": {},
   "outputs": [
    {
     "name": "stdout",
     "output_type": "stream",
     "text": [
      "\t-65 \n"
     ]
    }
   ],
   "source": [
    "from neuron import h, gui\n",
    "######################################\n",
    "# loading the  model\n",
    "# we use a hoc template in order to load the morphology\n",
    "######################################\n",
    "post_morph_dir = \"fitting_exsamale/morph.swc\"\n",
    "h.load_file(\"import3d.hoc\")\n",
    "h.load_file(\"nrngui.hoc\")\n",
    "h(\"objref cell, tobj\")\n",
    "\n",
    "morph_file = post_morph_dir\n",
    "model_file = \"template_model\"\n",
    "model_path = \"fitting_exsamale/\"\n",
    "h.load_file(model_path + model_file + \".hoc\")\n",
    "h.execute(\"cell = new \" + model_file + \"()\") \n",
    "\n",
    "nl = h.Import3d_SWC_read()\n",
    "nl.quiet = 1\n",
    "nl.input(morph_file)\n",
    "imprt = h.Import3d_GUI(nl, 0)\n",
    "imprt.instantiate(h.cell)\n",
    "cell = h.cell\n",
    "\n",
    "#inserting passive mechanism\n",
    "for sec in cell.all:\n",
    "    sec.insert(\"pas\")"
   ]
  },
  {
   "cell_type": "code",
   "execution_count": 3,
   "metadata": {},
   "outputs": [],
   "source": [
    "# check the graphs\n",
    "\n",
    "# open the graph on shape plot\n",
    "# check the shape of the neuron, change the view to also see the diameter \n",
    "# lets check the diameter change as a function of distance\n",
    "\n",
    "# geting all dendrite terminales\n",
    "terminals_basal = set()\n",
    "terminals_apical = set()\n",
    "\n",
    "for sec in cell.dend:\n",
    "    sref = h.SectionRef(sec=sec)\n",
    "    if sref.nchild() == 0:\n",
    "         terminals_basal.add(sec)\n",
    "\n",
    "for sec in cell.apic:\n",
    "    sref = h.SectionRef(sec=sec)\n",
    "    if sref.nchild() == 0:\n",
    "         terminals_apical.add(sec)\n"
   ]
  },
  {
   "cell_type": "code",
   "execution_count": 4,
   "metadata": {},
   "outputs": [
    {
     "name": "stdout",
     "output_type": "stream",
     "text": [
      "number of apical terminals: 19\n",
      "number of basal terminals: 19\n"
     ]
    }
   ],
   "source": [
    "print(\"number of apical terminals:\",len(terminals_apical))\n",
    "print(\"number of basal terminals:\",len(terminals_basal))"
   ]
  },
  {
   "cell_type": "code",
   "execution_count": 6,
   "metadata": {},
   "outputs": [
    {
     "data": {
      "text/plain": [
       "0.5"
      ]
     },
     "execution_count": 6,
     "metadata": {},
     "output_type": "execute_result"
    }
   ],
   "source": [
    "h.distance(0,0.5, cell.soma[0])"
   ]
  },
  {
   "cell_type": "code",
   "execution_count": 15,
   "metadata": {},
   "outputs": [],
   "source": [
    "import matplotlib.pyplot as plt\n",
    "def plot_section_diam(section, start_diam = 0, start_distance = 0 , c='red'):\n",
    "    start_distance = h.distance(section(0))\n",
    "    start_diam = section(0).diam\n",
    "    for seg in section:\n",
    "        plt.plot([start_distance,  h.distance(section(seg.x))], [start_diam, seg.diam], color=c)"
   ]
  },
  {
   "cell_type": "code",
   "execution_count": 22,
   "metadata": {},
   "outputs": [
    {
     "data": {
      "image/png": "[encoded data removed]",
      "text/plain": [
       "<Figure size 432x288 with 1 Axes>"
      ]
     },
     "metadata": {
      "needs_background": "light"
     },
     "output_type": "display_data"
    }
   ],
   "source": [
    "for section in terminals_apical:\n",
    "    cur_sec = section\n",
    "    while cur_sec != cell.soma[0]:\n",
    "        plot_section_diam(cur_sec, start_diam = 0, start_distance = 0 ,c='b')\n",
    "        end_diam = cur_sec(0).diam\n",
    "        end_distance = h.distance(cur_sec(0))\n",
    "        cur_sec = h.SectionRef(sec = cur_sec).parent\n",
    "        plt.plot([end_distance, h.distance(cur_sec(1))], [end_diam, cur_sec(1).diam], color='b')\n",
    "\n",
    "for section in terminals_basal:\n",
    "    cur_sec = section\n",
    "    while cur_sec != cell.soma[0]:\n",
    "        plot_section_diam(cur_sec, start_diam = 0, start_distance = 0 ,c='r')\n",
    "        end_diam = cur_sec(0).diam\n",
    "        end_distance = h.distance(cur_sec(0))\n",
    "        cur_sec = h.SectionRef(sec = cur_sec).parent\n",
    "        plt.plot([end_distance, h.distance(cur_sec(1))], [end_diam, cur_sec(1).diam], color='r')"
   ]
  },
  {
   "cell_type": "code",
   "execution_count": 27,
   "metadata": {},
   "outputs": [],
   "source": [
    "# now look on next graph of the voltage\n",
    "# lets add an IClamp\n",
    "\n",
    "clamp = h.IClamp(cell.soma[0](0.5))\n",
    "clamp.amp = 0.5\n",
    "clamp.dur = 1000\n",
    "clamp.delay = 200\n",
    "h.v_init = -70\n",
    "for sec in cell.all:\n",
    "    sec.g_pas = 1.0 / 20000.0\n",
    "    sec.Ra = 100\n",
    "    sec.e_pas = -70\n",
    "h.tstop = 1500\n"
   ]
  },
  {
   "cell_type": "code",
   "execution_count": 29,
   "metadata": {},
   "outputs": [
    {
     "data": {
      "text/plain": [
       "0.0"
      ]
     },
     "execution_count": 29,
     "metadata": {},
     "output_type": "execute_result"
    }
   ],
   "source": [
    "# before runing the simulation open the voltage graph and see the  voltage in the soma during the simulation\n",
    "h.run()"
   ]
  },
  {
   "cell_type": "code",
   "execution_count": null,
   "metadata": {},
   "outputs": [],
   "source": []
  }
 ],
 "metadata": {
  "kernelspec": {
   "display_name": "Python 3",
   "language": "python",
   "name": "python3"
  },
  "language_info": {
   "codemirror_mode": {
    "name": "ipython",
    "version": 3
   },
   "file_extension": ".py",
   "mimetype": "text/x-python",
   "name": "python",
   "nbconvert_exporter": "python",
   "pygments_lexer": "ipython3",
   "version": "3.6.9"
  }
 },
 "nbformat": 4,
 "nbformat_minor": 4
}
