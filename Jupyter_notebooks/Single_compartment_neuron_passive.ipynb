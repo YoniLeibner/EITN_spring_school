{
 "cells": [
  {
   "cell_type": "code",
   "execution_count": 2,
   "metadata": {},
   "outputs": [],
   "source": [
    "from __future__ import division\n",
    "from neuron import h\n",
    "from neuron import gui\n",
    "import matplotlib.pyplot as plt\n",
    "import numpy as np\n",
    "plt.ion()"
   ]
  },
  {
   "cell_type": "markdown",
   "metadata": {},
   "source": [
    "## Create model"
   ]
  },
  {
   "cell_type": "code",
   "execution_count": 3,
   "metadata": {},
   "outputs": [],
   "source": [
    "# create model\n",
    "soma = h.Section(name='soma')\n",
    "soma.L    = 10 # the length of the soma\n",
    "soma.diam = 10 # the diameter of the soma\n",
    "soma.Ra   = 100 # tha axial resistance\n",
    "soma.insert('pas') # add passive properties \n",
    "soma.g_pas = 1/10000 # set the specific membrane to 10000 ohm*cm^2"
   ]
  },
  {
   "cell_type": "markdown",
   "metadata": {},
   "source": [
    "## Create Current Clamp and set the variables for the current injection"
   ]
  },
  {
   "cell_type": "code",
   "execution_count": 4,
   "metadata": {},
   "outputs": [],
   "source": [
    "stim = h.IClamp(soma(0.5))\n",
    "stim.delay = 20 # start of the current injection (ms)\n",
    "stim.dur   = 100 # duration (ms)\n",
    "stim.amp   = 0.01 # amplitude (nA)"
   ]
  },
  {
   "cell_type": "markdown",
   "metadata": {},
   "source": [
    "# record voltage of soma and injected current and the time"
   ]
  },
  {
   "cell_type": "code",
   "execution_count": 5,
   "metadata": {},
   "outputs": [
    {
     "data": {
      "text/plain": [
       "Vector[5]"
      ]
     },
     "execution_count": 5,
     "metadata": {},
     "output_type": "execute_result"
    }
   ],
   "source": [
    "soma_v = h.Vector()\n",
    "soma_v.record(soma(0.5)._ref_v)\n",
    "\n",
    "stim_current = h.Vector()\n",
    "stim_current.record(stim._ref_i)\n",
    "\n",
    "t = h.Vector()\n",
    "t.record(h._ref_t)"
   ]
  },
  {
   "cell_type": "markdown",
   "metadata": {},
   "source": [
    "# set starting voltage, run time, and run the simulation"
   ]
  },
  {
   "cell_type": "code",
   "execution_count": 6,
   "metadata": {},
   "outputs": [
    {
     "data": {
      "text/plain": [
       "0.0"
      ]
     },
     "execution_count": 6,
     "metadata": {},
     "output_type": "execute_result"
    }
   ],
   "source": [
    "h.tstop = 220 # set the simulation time\n",
    "h.v_init = -70\n",
    "# run simulation\n",
    "h.run()"
   ]
  },
  {
   "cell_type": "markdown",
   "metadata": {},
   "source": [
    "# plot the injected current and the voltage response"
   ]
  },
  {
   "cell_type": "code",
   "execution_count": 7,
   "metadata": {},
   "outputs": [
    {
     "data": {
      "text/plain": [
       "<matplotlib.legend.Legend at 0x7f817c1a9748>"
      ]
     },
     "execution_count": 7,
     "metadata": {},
     "output_type": "execute_result"
    },
    {
     "data": {
      "image/png": "[encoded data removed]",
      "text/plain": [
       "<Figure size 432x288 with 2 Axes>"
      ]
     },
     "metadata": {
      "needs_background": "light"
     },
     "output_type": "display_data"
    }
   ],
   "source": [
    "f, (ax0, ax1) = plt.subplots(2,1, gridspec_kw = {'height_ratios':[3, 1]})\n",
    "ax0.plot(t,soma_v, 'k')\n",
    "ax1.plot(t,stim_current, 'gray', label='I (nA)')\n",
    "\n",
    "ax0.set_ylabel('Voltage (mV)')\n",
    "ax0.set_ylim(-80,-30)\n",
    "ax0.spines['right'].set_visible(False)\n",
    "ax0.spines['top'].set_visible(False)\n",
    "ax0.spines['bottom'].set_visible(False)\n",
    "ax0.get_xaxis().set_visible(False)\n",
    "\n",
    "\n",
    "ax1.set_ylabel('I (nA)')\n",
    "ax1.set_xlabel('t (ms)')\n",
    "ax1.set_ylim(-0.01,0.02)\n",
    "ax1.spines['right'].set_visible(False)\n",
    "ax1.spines['top'].set_visible(False)\n",
    "ax1.spines['left'].set_visible(False)\n",
    "ax1.get_yaxis().set_visible(False)\n",
    "ax1.legend(frameon=False)"
   ]
  },
  {
   "cell_type": "code",
   "execution_count": 8,
   "metadata": {},
   "outputs": [],
   "source": [
    "stim.amp = 0\n"
   ]
  },
  {
   "cell_type": "code",
   "execution_count": null,
   "metadata": {},
   "outputs": [],
   "source": [
    "# synapse response"
   ]
  },
  {
   "cell_type": "code",
   "execution_count": 9,
   "metadata": {},
   "outputs": [],
   "source": [
    "# add a synapse\n",
    "synapse = h.Exp2Syn(soma(0.5))\n",
    "synapse.tau1 = 0.3\n",
    "synapse.tau2 = 1.8\n",
    "stim=h.NetStim()\n",
    "stim.number = 1\n",
    "stim.noise = 0 # no noise \n",
    "stim.interval = 1\n",
    "net_con = h.NetCon(stim, synapse)\n",
    "net_con.weight[0]= 0.0004 # the maximal conductance of the synapse\n",
    "\n"
   ]
  },
  {
   "cell_type": "code",
   "execution_count": 10,
   "metadata": {},
   "outputs": [
    {
     "data": {
      "text/plain": [
       "0.0"
      ]
     },
     "execution_count": 10,
     "metadata": {},
     "output_type": "execute_result"
    }
   ],
   "source": [
    "# record\n",
    "soma_v = h.Vector()  # set up a recording vector\n",
    "soma_v.record(soma(0.5)._ref_v) # record voltage at the middle of the soma\n",
    "synapse_i = h.Vector()  # set up a recording vector\n",
    "synapse_i.record(synapse._ref_i) # record the current in the synapse\n",
    "\n",
    "# run\n",
    "h.v_init = -70  # set starting voltage \n",
    "h.tstop = 125  # set simulation time\n",
    "h.run()  # run simulation\n"
   ]
  },
  {
   "cell_type": "code",
   "execution_count": 16,
   "metadata": {},
   "outputs": [
    {
     "data": {
      "image/png": "[encoded data removed]",
      "text/plain": [
       "<Figure size 432x288 with 2 Axes>"
      ]
     },
     "metadata": {
      "needs_background": "light"
     },
     "output_type": "display_data"
    }
   ],
   "source": [
    "# plot the results\n",
    "fig, ax = plt.subplots(1,2)\n",
    "ax[0].plot(t,soma_v)\n",
    "ax[1].plot(t, synapse_i)\n",
    "ax[0].set_xlabel(\"time (ms)\")\n",
    "ax[1].set_xlabel(\"time (ms)\")\n",
    "ax[0].set_ylabel(\"V (mV))\")\n",
    "ax[1].set_ylabel(\"I (pA)\")\n",
    "ax[0].set_title(\"voltage\")\n",
    "ax[1].set_title(\"current\")\n",
    "plt.subplots_adjust(wspace=1)"
   ]
  },
  {
   "cell_type": "code",
   "execution_count": null,
   "metadata": {},
   "outputs": [],
   "source": []
  }
 ],
 "metadata": {
  "kernelspec": {
   "display_name": "Python 3",
   "language": "python",
   "name": "python3"
  },
  "language_info": {
   "codemirror_mode": {
    "name": "ipython",
    "version": 3
   },
   "file_extension": ".py",
   "mimetype": "text/x-python",
   "name": "python",
   "nbconvert_exporter": "python",
   "pygments_lexer": "ipython3",
   "version": "3.6.9"
  }
 },
 "nbformat": 4,
 "nbformat_minor": 2
}
